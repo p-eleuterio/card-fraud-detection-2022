{
 "cells": [
  {
   "cell_type": "markdown",
   "id": "aaad2e23",
   "metadata": {},
   "source": [
    "# Mentoria de  Detección de Fraude de Tarjeta de Crédito  \n",
    "## Trabajo: Aprendizaje supervisado."
   ]
  },
  {
   "cell_type": "markdown",
   "id": "6c5033c6",
   "metadata": {},
   "source": [
    "1. Preparamos los datos para comenzar el entrenamiento del modelo tal y como vimos en clase. Para esto debemos considerar la cantidad de registros en el train y en el test. Además de esto vamos a tener que tomar alguna decisión en torno al problema del desbalanceo de nuestro dataset.\n",
    "\n",
    "- Preparar los datos: división entre entrenamiento y testeo. Pueden utilizar las herramientas provistas por la librería sckit-learn. **Consejo**: cuando trabajamos con librerías extensas y con diversos módulos -como es el caso de scikit-learn- por lo general no queremos cargar todos los elementos o scripts de dicha librería (porque es algo poco eficiente en términos de recursos). Así que solo vamos a ir \"llamando\" a aquellos módulos dentro de la librería que vayamos a usar de hecho, por ejemplo, **train_test_split**\n",
    "- Preparar un dataset **balanceando** los datos y preparar train y test. Nuevamente la librería scikit-learn les provee herramientas para balancear los datasets, pero son libres de usar las herramientas que gusten siempre y cuando se tomen el trabajo de explicar al menos en un reglón cómo se implementa y la lógica con la que funciona el código."
   ]
  },
  {
   "cell_type": "code",
   "execution_count": null,
   "id": "271e8f35",
   "metadata": {},
   "outputs": [],
   "source": [
    "import pandas as pd\n",
    "from sklearn import #agreguen lo que vayan a usar "
   ]
  },
  {
   "cell_type": "markdown",
   "id": "60e49486",
   "metadata": {},
   "source": [
    "2. Ahora vamos a elegir dos tipos de modelos entre los siguientes: XGBoost, Logistic Regression, Random Forest. La idea es aproximarnos a la resolución del problema teniendo en cuenta una variedad de estrategias para solucionarlo. \n",
    "- Entrenar ambos modelos con los datasets.\n",
    "- Comparar los modelos entrenados usando AUC ROC y al menos dos de las siguientes métricas: precision, recall, F1, accuracy. Fundamentar la elección de las métricas según el modelo y el problema a abordar.\n",
    "- ¿Qué modelo dio mejor resultado? ¿Hay una mejoría en general con el dataset balanceado?"
   ]
  },
  {
   "cell_type": "markdown",
   "id": "5314dc33",
   "metadata": {},
   "source": [
    "**Extra**: Si tienen tiempo y les interesa, pueden tomar el modelo que mejor AUC ROC dio e iterar sobre esta arquitectura usando cross-validation en busca de una mejora de parámetros o hiperparámetros."
   ]
  },
  {
   "cell_type": "markdown",
   "id": "4fa60108",
   "metadata": {},
   "source": [
    "3. BI y análisis. Ahora vamos a analizar nuestros resultados para presentarselos a nuestros cliente o equipo de negocios. Ahora bien, podemos tener un modelo cuyas métricas de ML sean geniales, pero lamentablemente esto por sí solo no va a resolver el problema. Es el momento de bajar los resultados a métricas entendibles por el equipo de negocios y justificar a través de ellas la puesta en producción -o no- de dicho modelo. Esto va a requerir un entendimiento y explicación de qué devuelve el modelo cuando evalúa un pago (esto puede entenderse como el valor de la columna \"prediction\").\n",
    "-  De todos modelos entrenados con mejores métricas ¿cuál posee el menor **porcentaje de fraude** en relación al monto? ¿coincide esta métrica con la performance en otras métricas de ML elegidas o sucede que hay algún modelo que si bien atrapa menos cbk atrapa por lo general cbk de montos altos?\n",
    "- En relación a la perfomance de los dos mejores modelos considerando montos bajos, de [10-30] como montos intermedios-bajos, [30-50] como montos intermedios-altos, y [+50] como montos altos (del primer práctico), comparen el porcentaje de fraude entre estos modelos para cada uno de estos grupos de pagos."
   ]
  },
  {
   "cell_type": "code",
   "execution_count": null,
   "id": "038b2fc4",
   "metadata": {},
   "outputs": [],
   "source": []
  }
 ],
 "metadata": {
  "kernelspec": {
   "display_name": "Python 3 (ipykernel)",
   "language": "python",
   "name": "python3"
  },
  "language_info": {
   "codemirror_mode": {
    "name": "ipython",
    "version": 3
   },
   "file_extension": ".py",
   "mimetype": "text/x-python",
   "name": "python",
   "nbconvert_exporter": "python",
   "pygments_lexer": "ipython3",
   "version": "3.7.3"
  }
 },
 "nbformat": 4,
 "nbformat_minor": 5
}
