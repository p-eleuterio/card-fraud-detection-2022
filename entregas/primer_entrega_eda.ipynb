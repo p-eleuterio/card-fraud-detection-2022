{
 "cells": [
  {
   "cell_type": "markdown",
   "id": "0ec15ae8",
   "metadata": {},
   "source": [
    "# Mentoria de  Detección de Fraude de Tarjeta de Crédito  \n",
    "## Trabajo: Análisis y visualización de datos."
   ]
  },
  {
   "cell_type": "markdown",
   "id": "46728254",
   "metadata": {},
   "source": [
    "En el siguiente práctico vamos a empezar a trabajar nuestro dataset haciendo uso de algunos conceptos fundamentales y otras 'herramientas' que han ido viendo a lo largo de la primer materia.  \n",
    "La idea aquí es empezar a pensar en este problema como una situación que se les puede plantear en el mundo real:  \n",
    ">Supongan que como científicos de datos son contradados por una consultora externa a una plataforma de compras online para que analicen los fraudes realizados con tarjeta de crédito en las transacciones dentro de la plataforma.  \n",
    "Esta consultora tiene acceso a los datos de forma parcial, dado que por su caracter externo y por acuerdos de confidencialidad no pueden distribuir el detalle de las variables originales con personas ajenas a la empresa. La consultora los contrata con el objetivo de que puedan realizar su mejor trabajo con esta información parcial y dispersa.  \n",
    "\n",
    "Así planteado, nuestro problema se subdivide entonces en una serie de problemas menores que van a marcar los objetivos de cada etapa del ciclo de vida de este proyecto. La etapa que nos compete ahora es la de la **exploración y análisis de los datos**."
   ]
  },
  {
   "cell_type": "markdown",
   "id": "3ad8c184",
   "metadata": {},
   "source": [
    "### Introducción: algunos conceptos teóricos.  \n",
    "Antes de empezar explorar el dataset, siempre es interesante que como científicos de datos nos adentremos en las particularidades conceptuales de los problemas que vamos a estar abordando. Dicho de otra forma, debemos conocer de qué va cada término relevante del problema, al menos, y entender las conexiones entre cada término. Es deseable que como científicos e investigadores incorporemos como buen hábito o práctica meetodológica el explicitar en lenguaje común todo cuanto sabemos de un problema específico, para ir contruyendo de forma robusta y progresiva nuestros problemas a partir de este 'marco teórico'.  \n"
   ]
  },
  {
   "cell_type": "markdown",
   "id": "cf17603a",
   "metadata": {},
   "source": [
    "**Fraude de tarjeta de crédito**:\n",
    "> Vamos a llamar fraude de tarjerta a aquellas transacciones o compras con tarjetas de crédito que han sido determinadas como fraudulentas por la paltaforma de compra (en este caso, Vesta). Las caraccterísticas que nos van a interesar aquí especialemnte son el monto de dinero y al frecuencia en el tiempo en el que pueden ocurrir. Asumimos que los pagos fraudulentos como tales son una clase homogénea (conceptualment hablando, son pagos realizados por un defraudador con una tarjeta robada) en los cuales quien recibe el pago acusa de no recibir su parte el mismo, o quien emite acusa de no haber realizado dicho pago. El fraude tiene entonces al menos tres actores:  un defraudador, un vendedor y un titular legitimo de la tarjeta."
   ]
  },
  {
   "cell_type": "markdown",
   "id": "a5df3da3",
   "metadata": {},
   "source": [
    "**Monto total de transacciones**:  \n",
    "> Es el total de dinero procesado en el período de tiempo analizado. Este es un concepto que interesa especialmente desde el punto de vista de negocios, dado que no toma en cuenta la cantidad de pagos sino más bien la masa total de dinero que representan."
   ]
  },
  {
   "cell_type": "markdown",
   "id": "f8fa1018",
   "metadata": {},
   "source": [
    "**Monto total de fraude**:  \n",
    "> Es el total de dinero procesado en el período de tiempo analizado que se perdió en fraude. Nuevamente es un concepto que interesa especialmente desde el punto de vista de negocios, dado que nos permite estimar el impacto que ha tenido en moneda."
   ]
  },
  {
   "cell_type": "markdown",
   "id": "03b368c5",
   "metadata": {},
   "source": [
    "**Porcentaje de fraude**:  \n",
    "> Es el porcentaje que representa el total de dinero defraudado del total de dinero transaccionado. Esta es una de las métricas más esenciales de negocio: nos perrmite entender rápida e intuitivamente qué tan severo ha sido el impacto del fraude para el negocio. Piensen lo siguiente: como plataforma de ventas, mi ganancia está principalmente en un porcentaje quee me llevo de cada transaccción (el fee o tarifa). Si mi fee es del 3% y el total de fraude representa el 5%, desde el punto de vista de negocios el modelo no está siendo rentable."
   ]
  },
  {
   "cell_type": "markdown",
   "id": "a7db6c19",
   "metadata": {},
   "source": [
    "Vamos entonces a hacer las siguientes asunciones para darle sentido a la tarea:   \n",
    "  - La plataforma se hace cargo al 100% de las transacciones fraudulentas, así que un pago fraudulento es dinero que pierde la empresa;  \n",
    "  - La mayor parte del fraude que vemos es de robo de tarjeta, quiere decir que ni el titular de la tarjeta ni el vendedor participan del fraude (aunque este podría ser eel caso)"
   ]
  },
  {
   "cell_type": "markdown",
   "id": "172da7e2",
   "metadata": {},
   "source": [
    "### 1. Carga de datos y exploración de los tipos de datos."
   ]
  },
  {
   "cell_type": "markdown",
   "id": "a97be273",
   "metadata": {},
   "source": [
    "Como vieron en el primer práctico, la ciencia de datos utiliza conocimientos y metodologías de distintas disciplinas. es hora de poner a prueba estos conocimientos. En el primer punto necesitamos levantar la información y disponibilizarla de manera tal de que podamos manipularla con las herramientas que tenemos. Como vieron utilizamos principalmente herramientas desarrolladas sobre un lenguaje de programación expecífico, **python**.  \n",
    "La idea es que sentemos algunos conocimientos básicos de estas herramientas, que vienen en paquetes de código llamados librerías.  \n",
    "Python es un lenguaje orientado a **objetos**, lo que significa que toda nuestra información quedará persistida dentro del noteboook \"dentro\" de una variable a la que trataremos como un objeto. La idea es explorar algunas proriedades de ese objeto, a través de lo que llamamos   **métodos y atributos**.\n",
    "   1. Cargen las librerías que vamos a usar para este práctico y creen una variable para asignarle el dataset usando la librería pandas. (Recuerden que el dataset está dividido en dos partes, exploren qué métodos les da pandas para unir los dos dataset)\n",
    "   2. Chequen que la información está completa y que el dataset contiene los registros y columnas que debería contener (utilicen atributos del panda dataframe para esto)\n",
    "   3. Analicen los tipos de datos que posee cada columna (nuevamente utilicen herramientas de la librería pandas)\n",
    "   4. El dataset ¿posee valores del tipo null?"
   ]
  },
  {
   "cell_type": "code",
   "execution_count": 1,
   "id": "513af68c",
   "metadata": {},
   "outputs": [],
   "source": [
    "import pandas as pd\n",
    "import matplotlib as plt\n",
    "import numpy as np"
   ]
  },
  {
   "cell_type": "code",
   "execution_count": null,
   "id": "cdc79bf9",
   "metadata": {},
   "outputs": [],
   "source": [
    "#1.1\n",
    "df = pd.read_csv(...)"
   ]
  },
  {
   "cell_type": "markdown",
   "id": "38e9c95a",
   "metadata": {},
   "source": [
    "### 2.  Exploración de los datos."
   ]
  },
  {
   "cell_type": "markdown",
   "id": "f05b03ca",
   "metadata": {},
   "source": [
    "Ahora que ya tenemos nuestra muestra lista para el análisis, es hora de empeezar una exploración estadística con mayor detalle de las variables que componen la muestra. Nuevamente utilizaremos herrramientas que nos provee pandas para esto.\n",
    " 1. Obtenga los estadísticos básicos (media y promedio) de cada una de las columnas. Compare estos valores entre la columna de **time** y la columna **amount**.\n",
    " 2. Tomando en cuenta la columna amount y time ¿podemos decir que la distribución es simétrica en cada una de ellas? Explore esto para distintos conjuntos de valores, por ejemplo, dividiendo la variable con bines de valores de intervalos de 20 [20, 40, 80, 100, max_amount], para ver si la distribución es simétrica en alguno de los mismos.\n",
    " 3. Analizando la columna class (el target). ¿Cómo describirían  la distribución de la misma? Usen un gráfico para mostrar dicha distribución."
   ]
  },
  {
   "cell_type": "code",
   "execution_count": null,
   "id": "92ac5c92",
   "metadata": {},
   "outputs": [],
   "source": [
    "#2.1\n",
    "df.describe()..."
   ]
  },
  {
   "cell_type": "markdown",
   "id": "4aa62fa3",
   "metadata": {},
   "source": [
    "### 3. Gráficos comparativos y a lo largo del tiempo "
   ]
  },
  {
   "cell_type": "markdown",
   "id": "97d87261",
   "metadata": {},
   "source": [
    "Una vez que ya hicimos esta visualización general de los datos de cada columna, es hora de empezar a buscar características específicas dentro de cada columna en relación a la clase que queremos encontrar: los pagos fraudulentos. \n",
    "Sin duda que un análisis exploratorio debe arrojar buenas intuiciones sobre el problema que queremos abordar eespecíficamente. Así que una práctica interesante es tomar como pivot (eje) a cada una de las clases y comparar los comportamientos de las mismas dadas las mismas variables.\n",
    "1. Separar los pagos usando las dos clases. Elijan un tipo de tratamiento para los datos (pueden quitar outliers utilizando alguno de los criterios vistos en clase para limpiar valores extremos). Grafiquen en un boxenplot la distribución de estas dos clases en función de la variable **amount**. Para graficar los pagos no fraudulentos, por el tamaño de la muestra original, pueden usar una submuestra (pueden tomar por ejemplo una muestra aleatoria del 10% de los pagos o menos).\n",
    "2. ¿Qué conclusiones pueden observar de los gráficos anteriores? ¿Los pagos entre las dos clases se distribuyen de la misma manera? ¿Qué pueden observar en relación a la media y la mediana? Por ejemplo, en el percentil 75, ¿tenemos el mismo monto tanto en ambas clases? Pueden usar el concepto de cauntil y percentil para justificar sus obersvaciones.\n",
    "3. Grafiquen la distribución de los pagos positivos y negativos utilizando la variable **time**. En relación a dicha variable ¿cómo vemos que es la distribución de pagos fraudulentos y normales a lo largo del tiempo? A su criterio, esta variable ¿nos permite encontrar algún patrón dentro de la población? "
   ]
  },
  {
   "cell_type": "code",
   "execution_count": null,
   "id": "12356add",
   "metadata": {},
   "outputs": [],
   "source": []
  }
 ],
 "metadata": {
  "kernelspec": {
   "display_name": "Python 3 (ipykernel)",
   "language": "python",
   "name": "python3"
  },
  "language_info": {
   "codemirror_mode": {
    "name": "ipython",
    "version": 3
   },
   "file_extension": ".py",
   "mimetype": "text/x-python",
   "name": "python",
   "nbconvert_exporter": "python",
   "pygments_lexer": "ipython3",
   "version": "3.7.4"
  }
 },
 "nbformat": 4,
 "nbformat_minor": 5
}
