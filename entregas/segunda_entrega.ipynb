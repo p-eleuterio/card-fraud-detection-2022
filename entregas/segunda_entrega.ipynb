{
 "cells": [
  {
   "cell_type": "markdown",
   "id": "168633d1",
   "metadata": {},
   "source": [
    "# Mentoria de  Detección de Fraude de Tarjeta de Crédito  \n",
    "## Trabajo: Análisis y Curación de datos."
   ]
  },
  {
   "cell_type": "markdown",
   "id": "f3f828d9",
   "metadata": {},
   "source": [
    "Como vimos en el práctico 1, nuestro dataset posee varias particularidades en torno a la forma y presentación de los datos. La mayor parte de las features son el resultado de aplicar PCA sobre el conjunto original, y esto hace que nos encontremos con un conjunto de varaibles relativamente \"limpio\".  \n",
    "El \"problema\" con nuestro dataset desde el punto de vista de la curación de datos es, entonces, que ya está bien curado y procesado.  \n",
    "Siendo este el contexto, el práctico apunta entonces a seguir preparando el dataset para el entrenamiento, atendiendo a estas características. Los objetivos van a ser los siguentes:\n",
    "- Armar una matriz de correlación para visualizar de manera más clara la información de las features.\n",
    "- Obtener nuevas features a partir de la variable **time**\n",
    "- Reescalar las variables que sean necesarias y desechar aquellas que no sean óptimas para el entrenamiento."
   ]
  },
  {
   "cell_type": "code",
   "execution_count": 1,
   "id": "daa2055d",
   "metadata": {},
   "outputs": [],
   "source": [
    "import pandas as pd\n",
    "import matplotlib as plt\n",
    "import seaborn as sns \n",
    "import numpy as np"
   ]
  },
  {
   "cell_type": "markdown",
   "id": "6b47719e",
   "metadata": {},
   "source": [
    "### 1. Carga de datos y exploración de la correlación entre datos."
   ]
  },
  {
   "cell_type": "markdown",
   "id": "39295fa1",
   "metadata": {},
   "source": [
    "Por lo visto en los prácticos de análisis y curación sabemos que PCA implica una reducción de dimensionalidad de la matriz original. Pero eso no quita que podamos analizar el dataset y visualizar las relaciones que hay enter las variables y el target. Exploremos un poco más dichas relaciones.  \n",
    "  1. Genere un gráfico que muestre una matriz de correlación entre las features.\n",
    "  2. Muestre a través de un  pairplot la distribución de cada variable por separado utilizando histogramas procurando visualizar la distribución de ambas clases. A simplee vista, ¿cuáles variables parece \"separar\" mejor las dos clases? "
   ]
  },
  {
   "cell_type": "markdown",
   "id": "95743589",
   "metadata": {},
   "source": [
    "### 2. Generación de nuevas features."
   ]
  },
  {
   "cell_type": "markdown",
   "id": "e52f8ca3",
   "metadata": {},
   "source": [
    "Ahora bien, esta es nuestra oportunidad de generar nuevas features y explorar las relacionees de las mismas con el target. Usando la variable **time** el objetivo es crear una nueva feature quee aporte información sobre posibles correlaciones latentes en la misma.  \n",
    "  1. Usando métodos a elección, generen una nueva variable que cuente la cantidad de eventos fraudulentos een la última hora a partir del pago. (Esto es, si en la última hora a partir del momento del pago ocurrieron 3 pagos fraudulentos, el valor de la variable para este pago debería ser 3).\n",
    "  2. Realice un gráfico de pairplot de esta variable como en el punto 1 con relación al target. ¿Observan alguna correlación?\n",
    "  3. Analicen la correlación de esta variable con el target con un método a elección. ¿Les parece que la variable puede ser de valor?"
   ]
  },
  {
   "cell_type": "markdown",
   "id": "5efd9179",
   "metadata": {},
   "source": [
    "### 3. Escalado de features."
   ]
  },
  {
   "cell_type": "markdown",
   "id": "674c1be2",
   "metadata": {},
   "source": [
    "Finalmente, para preparar nuestro dataset para el entrenamiento debemos considerar si la escala en la que se encuentran nuestras features es la óptima para trabajar copn distintos modelos o si tal vez sería deseable manejar valores en nuestras features que no sean problemáticos en ciertos escenarios de entrenamiento.\n",
    "  1. La variable **amount** puede presentar una diferencia muy grande con las otras variables del conjunto con respecto al rango de distribución de los valores. Utilice alguna función de su elección para escalar esta variable atendiendo los rangos de valores de las otras feaures (1, -1)\n",
    "  2. A la hora de entrenar, ¿es conveniente conservar la variable **time**? Analice este punto, de sus perspectivas al respecto y si decicen eliminarla, escriban la función con la cual lo harían."
   ]
  },
  {
   "cell_type": "code",
   "execution_count": null,
   "id": "e926b917",
   "metadata": {},
   "outputs": [],
   "source": []
  }
 ],
 "metadata": {
  "kernelspec": {
   "display_name": "Python 3 (ipykernel)",
   "language": "python",
   "name": "python3"
  },
  "language_info": {
   "codemirror_mode": {
    "name": "ipython",
    "version": 3
   },
   "file_extension": ".py",
   "mimetype": "text/x-python",
   "name": "python",
   "nbconvert_exporter": "python",
   "pygments_lexer": "ipython3",
   "version": "3.7.4"
  }
 },
 "nbformat": 4,
 "nbformat_minor": 5
}
